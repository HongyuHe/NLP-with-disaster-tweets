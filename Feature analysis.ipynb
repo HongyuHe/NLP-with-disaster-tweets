{
 "cells": [
  {
   "cell_type": "code",
   "execution_count": 1,
   "metadata": {},
   "outputs": [
    {
     "data": {
      "text/plain": [
       "Index(['id', 'keyword', 'location', 'text', 'hashtag',\n",
       "       'hashtags_have_l1_synonyms', 'hashtags_have_l2_synonyms', 'subj',\n",
       "       'verb', 'obj', 'contains_l1_synonyms', 'contains_l2_synonyms',\n",
       "       'contains_damaged_words', 'mentioned_news_org', 'mentioned_relief_org',\n",
       "       'mentions', 'orgs', 'gpes', 'facs', 'target'],\n",
       "      dtype='object')"
      ]
     },
     "execution_count": 1,
     "metadata": {},
     "output_type": "execute_result"
    }
   ],
   "source": [
    "import pandas as pd\n",
    "df = pd.read_parquet(\"features.parquet\")\n",
    "df.target = df.target.map(bool)\n",
    "df.columns"
   ]
  },
  {
   "cell_type": "markdown",
   "metadata": {},
   "source": [
    "# Feature selection"
   ]
  },
  {
   "cell_type": "markdown",
   "metadata": {},
   "source": [
    "General statistics about the features:"
   ]
  },
  {
   "cell_type": "code",
   "execution_count": 2,
   "metadata": {},
   "outputs": [
    {
     "name": "stdout",
     "output_type": "stream",
     "text": [
      "Percentage of dataset with values for the specified columns:\n",
      "Value for keyword: 100.0%\n",
      "Value for location: 66.92%\n",
      "Value for hashtag: 22.44%\n",
      "Value for hashtags_have_l1_synonyms: 0.12%\n",
      "Value for hashtags_have_l2_synonyms: 0.03%\n",
      "Value for subj: 52.9%\n",
      "Value for verb: 79.23%\n",
      "Value for obj: 79.39%\n",
      "Value for contains_l1_synonyms: 12.58%\n",
      "Value for contains_l2_synonyms: 5.1%\n",
      "Value for contains_damaged_words: 8.0%\n",
      "Value for mentioned_news_org: 0.95%\n",
      "Value for mentioned_relief_org: 0.04%\n",
      "Value for mentions: 25.4%\n",
      "Value for orgs: 59.72%\n",
      "Value for gpes: 15.19%\n",
      "Value for facs: 1.73%\n"
     ]
    }
   ],
   "source": [
    "num_total = df.shape[0]\n",
    "def pct_with_value_for_col(column_name, df):\n",
    "    def to_bool(cell):\n",
    "        from numpy import ndarray as nparr\n",
    "        placeholder = '_'\n",
    "        \n",
    "        if type(cell) == nparr:\n",
    "            if len(cell) == 1 and cell.tolist() == [placeholder]:\n",
    "                return False\n",
    "            else:\n",
    "                return True\n",
    "        return bool(cell)\n",
    "        \n",
    "    try:\n",
    "        num = df[column_name].map(to_bool).value_counts()[True]\n",
    "        return round(float(num)/num_total*100, 2)\n",
    "    except KeyError:\n",
    "        return 0\n",
    "\n",
    "print(\"Percentage of dataset with values for the specified columns:\")\n",
    "for col in df.columns:\n",
    "    if col not in ['id', 'text', 'target']:\n",
    "        print(f\"Value for {col}: {pct_with_value_for_col(col, df)}%\")"
   ]
  },
  {
   "cell_type": "markdown",
   "metadata": {},
   "source": [
    "Is the location being present an indication of the tweet relating to a disaster?\n",
    "Not really."
   ]
  },
  {
   "cell_type": "code",
   "execution_count": 15,
   "metadata": {},
   "outputs": [
    {
     "name": "stderr",
     "output_type": "stream",
     "text": [
      "/Users/alex/.config/virtualenvs/ml/lib/python3.7/site-packages/plotnine/ggplot.py:729: PlotnineWarning: Saving 6.4 x 4.8 in image.\n",
      "  from_inches(height, units), units), PlotnineWarning)\n",
      "/Users/alex/.config/virtualenvs/ml/lib/python3.7/site-packages/plotnine/ggplot.py:730: PlotnineWarning: Filename: plots/label-vs-location.png\n",
      "  warn('Filename: {}'.format(filename), PlotnineWarning)\n"
     ]
    }
   ],
   "source": [
    "import plotnine as p9\n",
    "    \n",
    "combinations = [['positive, has location', 'target == 1 and location != \"\"'], \n",
    "                ['positive, no location', 'target == 1 and location == \"\"'],\n",
    "                ['negative, has location', 'target == 0 and location != \"\"'], \n",
    "                ['negative, no location', 'target == 0 and location == \"\"']]\n",
    "\n",
    "(p9.ggplot(pd.DataFrame({'features': [x[0] for x in combinations],\n",
    "                        'count': [df.query(x[1]).shape[0] for x in combinations]},\n",
    "                       columns=['features', 'count']))\n",
    " + p9.aes(x='features', y='count')\n",
    " + p9.geom_col(fill='cornflowerblue')\n",
    " + p9.ylab(\"number of instances\")\n",
    " + p9.xlab(\"label vs location present\")\n",
    " + p9.coord_flip()\n",
    ")"
   ]
  },
  {
   "cell_type": "markdown",
   "metadata": {},
   "source": [
    "For the few rows that mention news org, does it mean they're a disaster tweet?"
   ]
  },
  {
   "cell_type": "code",
   "execution_count": 17,
   "metadata": {},
   "outputs": [
    {
     "name": "stderr",
     "output_type": "stream",
     "text": [
      "/Users/alex/.config/virtualenvs/ml/lib/python3.7/site-packages/plotnine/ggplot.py:729: PlotnineWarning: Saving 6.4 x 4.8 in image.\n",
      "  from_inches(height, units), units), PlotnineWarning)\n",
      "/Users/alex/.config/virtualenvs/ml/lib/python3.7/site-packages/plotnine/ggplot.py:730: PlotnineWarning: Filename: plots/mentioned-news.png\n",
      "  warn('Filename: {}'.format(filename), PlotnineWarning)\n"
     ]
    }
   ],
   "source": [
    "(p9.ggplot(df[df.mentioned_news_org])\n",
    " + p9.aes(x='target')\n",
    " + p9.xlab('label')\n",
    " + p9.ylab('number of instances')\n",
    " + p9.geom_bar(fill='cornflowerblue')\n",
    ")"
   ]
  },
  {
   "cell_type": "markdown",
   "metadata": {},
   "source": [
    "Same with relief org, if they mention one, is it a disaster tweet?"
   ]
  },
  {
   "cell_type": "code",
   "execution_count": 16,
   "metadata": {},
   "outputs": [
    {
     "name": "stderr",
     "output_type": "stream",
     "text": [
      "/Users/alex/.config/virtualenvs/ml/lib/python3.7/site-packages/plotnine/ggplot.py:729: PlotnineWarning: Saving 6.4 x 4.8 in image.\n",
      "  from_inches(height, units), units), PlotnineWarning)\n",
      "/Users/alex/.config/virtualenvs/ml/lib/python3.7/site-packages/plotnine/ggplot.py:730: PlotnineWarning: Filename: plots/mentioned-relief.png\n",
      "  warn('Filename: {}'.format(filename), PlotnineWarning)\n"
     ]
    }
   ],
   "source": [
    "(p9.ggplot(df[df.mentioned_relief_org])\n",
    " + p9.aes(x='target')\n",
    " + p9.xlab('label')\n",
    " + p9.ylab('number of instances')\n",
    " + p9.geom_bar(fill='cornflowerblue')\n",
    ")"
   ]
  },
  {
   "cell_type": "markdown",
   "metadata": {},
   "source": [
    "What about the correlation between containing a synonym for 'disaster' and being a tweet _about_ a disaster?"
   ]
  },
  {
   "cell_type": "code",
   "execution_count": 18,
   "metadata": {},
   "outputs": [
    {
     "name": "stderr",
     "output_type": "stream",
     "text": [
      "/Users/alex/.config/virtualenvs/ml/lib/python3.7/site-packages/plotnine/ggplot.py:729: PlotnineWarning: Saving 6.4 x 4.8 in image.\n",
      "  from_inches(height, units), units), PlotnineWarning)\n",
      "/Users/alex/.config/virtualenvs/ml/lib/python3.7/site-packages/plotnine/ggplot.py:730: PlotnineWarning: Filename: plots/contains-l1.png\n",
      "  warn('Filename: {}'.format(filename), PlotnineWarning)\n"
     ]
    }
   ],
   "source": [
    "(p9.ggplot(df[df.contains_l1_synonyms])\n",
    " + p9.aes(x='target')\n",
    " + p9.xlab('label')\n",
    " + p9.ylab('number of instances')\n",
    " + p9.geom_bar(fill='cornflowerblue')\n",
    ")"
   ]
  },
  {
   "cell_type": "code",
   "execution_count": 19,
   "metadata": {},
   "outputs": [
    {
     "name": "stderr",
     "output_type": "stream",
     "text": [
      "/Users/alex/.config/virtualenvs/ml/lib/python3.7/site-packages/plotnine/ggplot.py:729: PlotnineWarning: Saving 6.4 x 4.8 in image.\n",
      "  from_inches(height, units), units), PlotnineWarning)\n",
      "/Users/alex/.config/virtualenvs/ml/lib/python3.7/site-packages/plotnine/ggplot.py:730: PlotnineWarning: Filename: plots/contains-l2.png\n",
      "  warn('Filename: {}'.format(filename), PlotnineWarning)\n"
     ]
    }
   ],
   "source": [
    "(p9.ggplot(df[df.contains_l2_synonyms])\n",
    " + p9.aes(x='target')\n",
    " + p9.xlab('label')\n",
    " + p9.ylab('number of instances')\n",
    " + p9.geom_bar(fill='cornflowerblue')\n",
    ")"
   ]
  },
  {
   "cell_type": "code",
   "execution_count": 20,
   "metadata": {},
   "outputs": [
    {
     "name": "stderr",
     "output_type": "stream",
     "text": [
      "/Users/alex/.config/virtualenvs/ml/lib/python3.7/site-packages/plotnine/ggplot.py:729: PlotnineWarning: Saving 6.4 x 4.8 in image.\n",
      "  from_inches(height, units), units), PlotnineWarning)\n",
      "/Users/alex/.config/virtualenvs/ml/lib/python3.7/site-packages/plotnine/ggplot.py:730: PlotnineWarning: Filename: plots/contains-damage-words.png\n",
      "  warn('Filename: {}'.format(filename), PlotnineWarning)\n"
     ]
    }
   ],
   "source": [
    "(p9.ggplot(df[df.contains_damaged_words])\n",
    " + p9.aes(x='target')\n",
    " + p9.xlab('label')\n",
    " + p9.ylab('number of instances')\n",
    " + p9.geom_bar(fill='cornflowerblue')\n",
    ")"
   ]
  },
  {
   "cell_type": "code",
   "execution_count": 21,
   "metadata": {},
   "outputs": [
    {
     "name": "stderr",
     "output_type": "stream",
     "text": [
      "/Users/alex/.config/virtualenvs/ml/lib/python3.7/site-packages/plotnine/ggplot.py:729: PlotnineWarning: Saving 6.4 x 4.8 in image.\n",
      "  from_inches(height, units), units), PlotnineWarning)\n",
      "/Users/alex/.config/virtualenvs/ml/lib/python3.7/site-packages/plotnine/ggplot.py:730: PlotnineWarning: Filename: plots/num-ents-vs-target.png\n",
      "  warn('Filename: {}'.format(filename), PlotnineWarning)\n"
     ]
    }
   ],
   "source": [
    "plotdf = pd.DataFrame(columns=['num_ents', 'target'])\n",
    "plotdf.num_ents = df.apply(lambda x: len(x.orgs)+len(x.gpes)+len(x.facs), axis='columns')\n",
    "plotdf.target = df.target\n",
    "\n",
    "(p9.ggplot(plotdf)\n",
    " + p9.aes(x='num_ents', fill='target')\n",
    " + p9.geom_bar()\n",
    " + p9.scale_x_continuous(breaks=range(0,plotdf.num_ents.max()+1))\n",
    " + p9.xlab('number of entities')\n",
    " + p9.ylab('number of instances')\n",
    " + p9.coord_flip()\n",
    ")\n"
   ]
  },
  {
   "cell_type": "markdown",
   "metadata": {},
   "source": [
    "It looks a _bit_ like the disaster tweets have more entities."
   ]
  },
  {
   "cell_type": "markdown",
   "metadata": {},
   "source": [
    "What about the number of hashtags?"
   ]
  },
  {
   "cell_type": "code",
   "execution_count": 24,
   "metadata": {},
   "outputs": [],
   "source": [
    "plotdf = pd.DataFrame(columns=['num_hashtags', 'target'])\n",
    "plotdf.num_hashtags = df.apply(lambda x: len(x.hashtag), axis='columns')\n",
    "plotdf.target = df.target"
   ]
  },
  {
   "cell_type": "code",
   "execution_count": 25,
   "metadata": {},
   "outputs": [
    {
     "name": "stderr",
     "output_type": "stream",
     "text": [
      "/Users/alex/.config/virtualenvs/ml/lib/python3.7/site-packages/plotnine/ggplot.py:729: PlotnineWarning: Saving 6.4 x 4.8 in image.\n",
      "  from_inches(height, units), units), PlotnineWarning)\n",
      "/Users/alex/.config/virtualenvs/ml/lib/python3.7/site-packages/plotnine/ggplot.py:730: PlotnineWarning: Filename: plots/num-hashtags-vs-target.png\n",
      "  warn('Filename: {}'.format(filename), PlotnineWarning)\n"
     ]
    }
   ],
   "source": [
    "(p9.ggplot(plotdf)\n",
    " + p9.aes(x='num_hashtags', fill='target')\n",
    " + p9.geom_bar()\n",
    " + p9.xlab('number of hashtags')\n",
    " + p9.ylab('number of instances')\n",
    " + p9.scale_x_continuous(breaks=range(0,plotdf.num_hashtags.max()+1))\n",
    " + p9.coord_flip()\n",
    ")"
   ]
  },
  {
   "cell_type": "code",
   "execution_count": 26,
   "metadata": {},
   "outputs": [
    {
     "name": "stderr",
     "output_type": "stream",
     "text": [
      "/Users/alex/.config/virtualenvs/ml/lib/python3.7/site-packages/plotnine/ggplot.py:729: PlotnineWarning: Saving 6.4 x 4.8 in image.\n",
      "  from_inches(height, units), units), PlotnineWarning)\n",
      "/Users/alex/.config/virtualenvs/ml/lib/python3.7/site-packages/plotnine/ggplot.py:730: PlotnineWarning: Filename: plots/num-hashtags-vs-target-zoomed.png\n",
      "  warn('Filename: {}'.format(filename), PlotnineWarning)\n"
     ]
    }
   ],
   "source": [
    "(p9.ggplot(plotdf[plotdf.num_hashtags >= 4])\n",
    "  + p9.aes(x='num_hashtags', fill='target')\n",
    "  + p9.geom_bar()\n",
    "  + p9.xlab('number of hashtags')\n",
    "  + p9.ylab('number of instances')\n",
    "  + p9.scale_x_continuous(breaks=range(4,plotdf.num_hashtags.max()+1))\n",
    "  + p9.coord_flip()\n",
    ")"
   ]
  },
  {
   "cell_type": "markdown",
   "metadata": {},
   "source": [
    "It looks like disaster tweets seem to have more hashtags in general. Though it's a bit hard to say, because e.g. 9 and 11 hashtags means that the tweet is not about a disaster, for some reason."
   ]
  }
 ],
 "metadata": {
  "kernelspec": {
   "display_name": "Python 3",
   "language": "python",
   "name": "python3"
  },
  "language_info": {
   "codemirror_mode": {
    "name": "ipython",
    "version": 3
   },
   "file_extension": ".py",
   "mimetype": "text/x-python",
   "name": "python",
   "nbconvert_exporter": "python",
   "pygments_lexer": "ipython3",
   "version": "3.7.7"
  }
 },
 "nbformat": 4,
 "nbformat_minor": 4
}
